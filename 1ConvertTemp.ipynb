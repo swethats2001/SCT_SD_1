{
 "cells": [
  {
   "cell_type": "markdown",
   "id": "cd996476-d1ef-441a-b34d-da81f5368e53",
   "metadata": {},
   "source": [
    " Convert temperatures between Celsius, Fahrenheit, and Kelvin scales"
   ]
  },
  {
   "cell_type": "code",
   "execution_count": 29,
   "id": "a104f254-39ed-4d99-93cd-dcd6984fc3c9",
   "metadata": {},
   "outputs": [
    {
     "name": "stdin",
     "output_type": "stream",
     "text": [
      "Enter temperature 100\n",
      "Enter unit c\n",
      "Enter target unit f\n"
     ]
    },
    {
     "name": "stdout",
     "output_type": "stream",
     "text": [
      "100°C = 212.00°F\n"
     ]
    }
   ],
   "source": [
    "def covertTemp(value,froms,tos):\n",
    "    if froms==\"C\":\n",
    "        celsius=value\n",
    "    elif froms==\"F\":\n",
    "        celsius=(value-32)*5/9\n",
    "    elif froms==\"K\":\n",
    "        celsius=value-273.15\n",
    "    else:\n",
    "        return \"Invalid from unit\"\n",
    "\n",
    "\n",
    "    if tos==\"C\":\n",
    "        return celsius\n",
    "    elif tos==\"F\":\n",
    "        return (celsius*9/5)+32\n",
    "    elif tos==\"K\":\n",
    "        return celsius+273.15\n",
    "    else:\n",
    "        return \"Invalid to unit\"\n",
    "\n",
    "value=int(input(\"Enter temperature\"))\n",
    "froms=input(\"Enter unit\").upper()\n",
    "tos=input(\"Enter target unit\").upper()\n",
    "newtemp=covertTemp(value,froms,tos)\n",
    "print(f\"{value}°{froms} = {newtemp:.2f}°{tos}\")\n",
    "    \n",
    "#print(f\"{value}°{from_unit} = {converted_value}°{to_unit}\")\n",
    "#print(newtemp)"
   ]
  },
  {
   "cell_type": "code",
   "execution_count": null,
   "id": "7fe7c278-e201-4234-bde3-19a08b43b570",
   "metadata": {},
   "outputs": [],
   "source": []
  }
 ],
 "metadata": {
  "kernelspec": {
   "display_name": "Python 3 (ipykernel)",
   "language": "python",
   "name": "python3"
  },
  "language_info": {
   "codemirror_mode": {
    "name": "ipython",
    "version": 3
   },
   "file_extension": ".py",
   "mimetype": "text/x-python",
   "name": "python",
   "nbconvert_exporter": "python",
   "pygments_lexer": "ipython3",
   "version": "3.12.7"
  }
 },
 "nbformat": 4,
 "nbformat_minor": 5
}
